{
 "cells": [
  {
   "cell_type": "markdown",
   "metadata": {},
   "source": [
    "https://rachmadhana-ftds-12-p0m1.herokuapp.com/ deployed to Heroku"
   ]
  },
  {
   "cell_type": "markdown",
   "metadata": {},
   "source": [
    "# Milestone 1\n",
    "\n",
    "`Rachmadhana Mizwarudin Fahmi Batch 12`"
   ]
  },
  {
   "cell_type": "markdown",
   "metadata": {},
   "source": [
    "## Identifikasi Masalah\n",
    "\n",
    "### Objective\n",
    "Departemen Pengawasan Lalu Lintas Kementerian Perhubungan Amerika Serikat ingin mengetahui kondisi kasus kecelakaan yang terjadi di jalan selama tahun 2016 yang berguna untuk diterapkan kebijakan baru supaya dapat mengurangi angka kecelakaan di kemudian hari. \n",
    "\n",
    "### Problem Statement\n",
    "1. Negara bagian mana dengan jumlah angka kecelakaan paling tinggi?\n",
    "2. Kecelakan lebih banyak terjadi di wilayah kota atau pedasaan?\n",
    "3. Pada jam berapa kecelakaan sering terjadi?\n",
    "4. Kecelakaan paling sering dialami oleh tipe kendaraan apa?\n",
    "5. Pada wilayah urban berapa rata-rata angka fatalitynya?\n",
    "6. Apakah ada perbedaan signifikan rata-rata angka fatality pada wilayah urban dengan wilayah Rural?"
   ]
  },
  {
   "cell_type": "markdown",
   "metadata": {},
   "source": [
    "## Import Pustaka"
   ]
  },
  {
   "cell_type": "code",
   "execution_count": 205,
   "metadata": {},
   "outputs": [],
   "source": [
    "import pandas as pd\n",
    "import matplotlib.pyplot as plt\n",
    "import seaborn as sns"
   ]
  },
  {
   "cell_type": "markdown",
   "metadata": {},
   "source": [
    "## Data Loading & Queries"
   ]
  },
  {
   "cell_type": "markdown",
   "metadata": {},
   "source": [
    "Cell dibawah merupakan salinan query yang telah dibuat di Google Cloud Platform"
   ]
  },
  {
   "cell_type": "code",
   "execution_count": 206,
   "metadata": {},
   "outputs": [],
   "source": [
    "# select accident.state_name, accident.land_use_name, accident.hour_of_crash, accident.atmospheric_conditions_name, vehicle.body_type_name, accident.number_of_fatalities\n",
    "# from `bigquery-public-data.nhtsa_traffic_fatalities.accident_2016` AS accident\n",
    "# INNER JOIN `bigquery-public-data.nhtsa_traffic_fatalities.vehicle_2016` AS vehicle\n",
    "# ON accident.consecutive_number = vehicle.consecutive_number\n",
    "# WHERE accident.land_use_name in ('Rural', 'Urban')\n",
    "# AND accident.state_name IS NOT NULL \n",
    "# AND accident.land_use_name IS NOT NULL\n",
    "# AND accident.hour_of_crash IS NOT NULL\n",
    "# AND accident.atmospheric_conditions_name IS NOT NULL\n",
    "# AND vehicle.body_type_name IS NOT NULL\n",
    "# AND accident.number_of_fatalities IS NOT NULL;"
   ]
  },
  {
   "cell_type": "markdown",
   "metadata": {},
   "source": [
    "Data loading yang didapatkan dari google cloud platform"
   ]
  },
  {
   "cell_type": "code",
   "execution_count": 207,
   "metadata": {},
   "outputs": [
    {
     "data": {
      "text/html": [
       "<div>\n",
       "<style scoped>\n",
       "    .dataframe tbody tr th:only-of-type {\n",
       "        vertical-align: middle;\n",
       "    }\n",
       "\n",
       "    .dataframe tbody tr th {\n",
       "        vertical-align: top;\n",
       "    }\n",
       "\n",
       "    .dataframe thead th {\n",
       "        text-align: right;\n",
       "    }\n",
       "</style>\n",
       "<table border=\"1\" class=\"dataframe\">\n",
       "  <thead>\n",
       "    <tr style=\"text-align: right;\">\n",
       "      <th></th>\n",
       "      <th>consecutive_number</th>\n",
       "      <th>state_name</th>\n",
       "      <th>land_use_name</th>\n",
       "      <th>hour_of_crash</th>\n",
       "      <th>atmospheric_conditions_name</th>\n",
       "      <th>body_type_name</th>\n",
       "      <th>number_of_fatalities</th>\n",
       "    </tr>\n",
       "  </thead>\n",
       "  <tbody>\n",
       "    <tr>\n",
       "      <th>0</th>\n",
       "      <td>560099</td>\n",
       "      <td>Wyoming</td>\n",
       "      <td>Rural</td>\n",
       "      <td>3</td>\n",
       "      <td>Snow</td>\n",
       "      <td>Standard Pickup</td>\n",
       "      <td>1</td>\n",
       "    </tr>\n",
       "    <tr>\n",
       "      <th>1</th>\n",
       "      <td>160226</td>\n",
       "      <td>Idaho</td>\n",
       "      <td>Rural</td>\n",
       "      <td>16</td>\n",
       "      <td>Blowing Snow</td>\n",
       "      <td>Utility Station Wagon</td>\n",
       "      <td>2</td>\n",
       "    </tr>\n",
       "    <tr>\n",
       "      <th>2</th>\n",
       "      <td>50006</td>\n",
       "      <td>Arkansas</td>\n",
       "      <td>Urban</td>\n",
       "      <td>3</td>\n",
       "      <td>Clear</td>\n",
       "      <td>Standard Pickup</td>\n",
       "      <td>1</td>\n",
       "    </tr>\n",
       "    <tr>\n",
       "      <th>3</th>\n",
       "      <td>482027</td>\n",
       "      <td>Texas</td>\n",
       "      <td>Urban</td>\n",
       "      <td>15</td>\n",
       "      <td>Clear</td>\n",
       "      <td>Large Utility (ANSI D-16 Utility Vehicle Categ...</td>\n",
       "      <td>1</td>\n",
       "    </tr>\n",
       "    <tr>\n",
       "      <th>4</th>\n",
       "      <td>121570</td>\n",
       "      <td>Florida</td>\n",
       "      <td>Urban</td>\n",
       "      <td>19</td>\n",
       "      <td>Clear</td>\n",
       "      <td>Compact Utility (ANSI D-16 Utility Vehicle Cat...</td>\n",
       "      <td>1</td>\n",
       "    </tr>\n",
       "    <tr>\n",
       "      <th>...</th>\n",
       "      <td>...</td>\n",
       "      <td>...</td>\n",
       "      <td>...</td>\n",
       "      <td>...</td>\n",
       "      <td>...</td>\n",
       "      <td>...</td>\n",
       "      <td>...</td>\n",
       "    </tr>\n",
       "    <tr>\n",
       "      <th>52580</th>\n",
       "      <td>510436</td>\n",
       "      <td>Virginia</td>\n",
       "      <td>Urban</td>\n",
       "      <td>15</td>\n",
       "      <td>Not Reported</td>\n",
       "      <td>Large Utility (ANSI D-16 Utility Vehicle Categ...</td>\n",
       "      <td>1</td>\n",
       "    </tr>\n",
       "    <tr>\n",
       "      <th>52581</th>\n",
       "      <td>350309</td>\n",
       "      <td>New Mexico</td>\n",
       "      <td>Urban</td>\n",
       "      <td>14</td>\n",
       "      <td>Clear</td>\n",
       "      <td>Motorcycle</td>\n",
       "      <td>1</td>\n",
       "    </tr>\n",
       "    <tr>\n",
       "      <th>52582</th>\n",
       "      <td>40777</td>\n",
       "      <td>Arizona</td>\n",
       "      <td>Rural</td>\n",
       "      <td>14</td>\n",
       "      <td>Not Reported</td>\n",
       "      <td>ATV (All-Terrain Vehicle; Includes 3 or 4 Wheels)</td>\n",
       "      <td>1</td>\n",
       "    </tr>\n",
       "    <tr>\n",
       "      <th>52583</th>\n",
       "      <td>530422</td>\n",
       "      <td>Washington</td>\n",
       "      <td>Urban</td>\n",
       "      <td>3</td>\n",
       "      <td>Not Reported</td>\n",
       "      <td>Unknown Body Type</td>\n",
       "      <td>1</td>\n",
       "    </tr>\n",
       "    <tr>\n",
       "      <th>52584</th>\n",
       "      <td>40096</td>\n",
       "      <td>Arizona</td>\n",
       "      <td>Rural</td>\n",
       "      <td>18</td>\n",
       "      <td>Not Reported</td>\n",
       "      <td>Standard Pickup</td>\n",
       "      <td>1</td>\n",
       "    </tr>\n",
       "  </tbody>\n",
       "</table>\n",
       "<p>52585 rows × 7 columns</p>\n",
       "</div>"
      ],
      "text/plain": [
       "       consecutive_number  state_name land_use_name  hour_of_crash  \\\n",
       "0                  560099     Wyoming         Rural              3   \n",
       "1                  160226       Idaho         Rural             16   \n",
       "2                   50006    Arkansas         Urban              3   \n",
       "3                  482027       Texas         Urban             15   \n",
       "4                  121570     Florida         Urban             19   \n",
       "...                   ...         ...           ...            ...   \n",
       "52580              510436    Virginia         Urban             15   \n",
       "52581              350309  New Mexico         Urban             14   \n",
       "52582               40777     Arizona         Rural             14   \n",
       "52583              530422  Washington         Urban              3   \n",
       "52584               40096     Arizona         Rural             18   \n",
       "\n",
       "      atmospheric_conditions_name  \\\n",
       "0                            Snow   \n",
       "1                    Blowing Snow   \n",
       "2                           Clear   \n",
       "3                           Clear   \n",
       "4                           Clear   \n",
       "...                           ...   \n",
       "52580                Not Reported   \n",
       "52581                       Clear   \n",
       "52582                Not Reported   \n",
       "52583                Not Reported   \n",
       "52584                Not Reported   \n",
       "\n",
       "                                          body_type_name  number_of_fatalities  \n",
       "0                                        Standard Pickup                     1  \n",
       "1                                  Utility Station Wagon                     2  \n",
       "2                                        Standard Pickup                     1  \n",
       "3      Large Utility (ANSI D-16 Utility Vehicle Categ...                     1  \n",
       "4      Compact Utility (ANSI D-16 Utility Vehicle Cat...                     1  \n",
       "...                                                  ...                   ...  \n",
       "52580  Large Utility (ANSI D-16 Utility Vehicle Categ...                     1  \n",
       "52581                                         Motorcycle                     1  \n",
       "52582  ATV (All-Terrain Vehicle; Includes 3 or 4 Wheels)                     1  \n",
       "52583                                  Unknown Body Type                     1  \n",
       "52584                                    Standard Pickup                     1  \n",
       "\n",
       "[52585 rows x 7 columns]"
      ]
     },
     "execution_count": 207,
     "metadata": {},
     "output_type": "execute_result"
    }
   ],
   "source": [
    "df = pd.read_csv('h8dsft_P0ML1_Rachmadhana.csv')\n",
    "df"
   ]
  },
  {
   "cell_type": "markdown",
   "metadata": {},
   "source": [
    "## Data Cleaning"
   ]
  },
  {
   "cell_type": "code",
   "execution_count": 208,
   "metadata": {},
   "outputs": [
    {
     "name": "stdout",
     "output_type": "stream",
     "text": [
      "<class 'pandas.core.frame.DataFrame'>\n",
      "RangeIndex: 52585 entries, 0 to 52584\n",
      "Data columns (total 7 columns):\n",
      " #   Column                       Non-Null Count  Dtype \n",
      "---  ------                       --------------  ----- \n",
      " 0   consecutive_number           52585 non-null  int64 \n",
      " 1   state_name                   52585 non-null  object\n",
      " 2   land_use_name                52585 non-null  object\n",
      " 3   hour_of_crash                52585 non-null  int64 \n",
      " 4   atmospheric_conditions_name  52585 non-null  object\n",
      " 5   body_type_name               52585 non-null  object\n",
      " 6   number_of_fatalities         52585 non-null  int64 \n",
      "dtypes: int64(3), object(4)\n",
      "memory usage: 2.8+ MB\n"
     ]
    }
   ],
   "source": [
    "df.info()"
   ]
  },
  {
   "cell_type": "code",
   "execution_count": 209,
   "metadata": {},
   "outputs": [
    {
     "name": "stdout",
     "output_type": "stream",
     "text": [
      "consecutive_number  :  0\n",
      "state_name  :  0\n",
      "land_use_name  :  0\n",
      "hour_of_crash  :  0\n",
      "atmospheric_conditions_name  :  0\n",
      "body_type_name  :  0\n",
      "number_of_fatalities  :  0\n"
     ]
    }
   ],
   "source": [
    "for col in df:\n",
    "  total_missing = df[col].isnull().sum()\n",
    "  print(col, ' : ', total_missing)"
   ]
  },
  {
   "cell_type": "code",
   "execution_count": 210,
   "metadata": {},
   "outputs": [
    {
     "data": {
      "text/html": [
       "<div>\n",
       "<style scoped>\n",
       "    .dataframe tbody tr th:only-of-type {\n",
       "        vertical-align: middle;\n",
       "    }\n",
       "\n",
       "    .dataframe tbody tr th {\n",
       "        vertical-align: top;\n",
       "    }\n",
       "\n",
       "    .dataframe thead th {\n",
       "        text-align: right;\n",
       "    }\n",
       "</style>\n",
       "<table border=\"1\" class=\"dataframe\">\n",
       "  <thead>\n",
       "    <tr style=\"text-align: right;\">\n",
       "      <th></th>\n",
       "      <th>consecutive_number</th>\n",
       "      <th>negara_bagian</th>\n",
       "      <th>wilayah</th>\n",
       "      <th>jam_kecelakaan</th>\n",
       "      <th>cuaca</th>\n",
       "      <th>jenis_kendaraan</th>\n",
       "      <th>angka_kematian</th>\n",
       "    </tr>\n",
       "  </thead>\n",
       "  <tbody>\n",
       "    <tr>\n",
       "      <th>0</th>\n",
       "      <td>560099</td>\n",
       "      <td>Wyoming</td>\n",
       "      <td>Rural</td>\n",
       "      <td>3</td>\n",
       "      <td>Snow</td>\n",
       "      <td>Standard Pickup</td>\n",
       "      <td>1</td>\n",
       "    </tr>\n",
       "    <tr>\n",
       "      <th>1</th>\n",
       "      <td>160226</td>\n",
       "      <td>Idaho</td>\n",
       "      <td>Rural</td>\n",
       "      <td>16</td>\n",
       "      <td>Blowing Snow</td>\n",
       "      <td>Utility Station Wagon</td>\n",
       "      <td>2</td>\n",
       "    </tr>\n",
       "    <tr>\n",
       "      <th>2</th>\n",
       "      <td>50006</td>\n",
       "      <td>Arkansas</td>\n",
       "      <td>Urban</td>\n",
       "      <td>3</td>\n",
       "      <td>Clear</td>\n",
       "      <td>Standard Pickup</td>\n",
       "      <td>1</td>\n",
       "    </tr>\n",
       "    <tr>\n",
       "      <th>3</th>\n",
       "      <td>482027</td>\n",
       "      <td>Texas</td>\n",
       "      <td>Urban</td>\n",
       "      <td>15</td>\n",
       "      <td>Clear</td>\n",
       "      <td>Large Utility (ANSI D-16 Utility Vehicle Categ...</td>\n",
       "      <td>1</td>\n",
       "    </tr>\n",
       "    <tr>\n",
       "      <th>4</th>\n",
       "      <td>121570</td>\n",
       "      <td>Florida</td>\n",
       "      <td>Urban</td>\n",
       "      <td>19</td>\n",
       "      <td>Clear</td>\n",
       "      <td>Compact Utility (ANSI D-16 Utility Vehicle Cat...</td>\n",
       "      <td>1</td>\n",
       "    </tr>\n",
       "    <tr>\n",
       "      <th>...</th>\n",
       "      <td>...</td>\n",
       "      <td>...</td>\n",
       "      <td>...</td>\n",
       "      <td>...</td>\n",
       "      <td>...</td>\n",
       "      <td>...</td>\n",
       "      <td>...</td>\n",
       "    </tr>\n",
       "    <tr>\n",
       "      <th>52580</th>\n",
       "      <td>510436</td>\n",
       "      <td>Virginia</td>\n",
       "      <td>Urban</td>\n",
       "      <td>15</td>\n",
       "      <td>Not Reported</td>\n",
       "      <td>Large Utility (ANSI D-16 Utility Vehicle Categ...</td>\n",
       "      <td>1</td>\n",
       "    </tr>\n",
       "    <tr>\n",
       "      <th>52581</th>\n",
       "      <td>350309</td>\n",
       "      <td>New Mexico</td>\n",
       "      <td>Urban</td>\n",
       "      <td>14</td>\n",
       "      <td>Clear</td>\n",
       "      <td>Motorcycle</td>\n",
       "      <td>1</td>\n",
       "    </tr>\n",
       "    <tr>\n",
       "      <th>52582</th>\n",
       "      <td>40777</td>\n",
       "      <td>Arizona</td>\n",
       "      <td>Rural</td>\n",
       "      <td>14</td>\n",
       "      <td>Not Reported</td>\n",
       "      <td>ATV (All-Terrain Vehicle; Includes 3 or 4 Wheels)</td>\n",
       "      <td>1</td>\n",
       "    </tr>\n",
       "    <tr>\n",
       "      <th>52583</th>\n",
       "      <td>530422</td>\n",
       "      <td>Washington</td>\n",
       "      <td>Urban</td>\n",
       "      <td>3</td>\n",
       "      <td>Not Reported</td>\n",
       "      <td>Unknown Body Type</td>\n",
       "      <td>1</td>\n",
       "    </tr>\n",
       "    <tr>\n",
       "      <th>52584</th>\n",
       "      <td>40096</td>\n",
       "      <td>Arizona</td>\n",
       "      <td>Rural</td>\n",
       "      <td>18</td>\n",
       "      <td>Not Reported</td>\n",
       "      <td>Standard Pickup</td>\n",
       "      <td>1</td>\n",
       "    </tr>\n",
       "  </tbody>\n",
       "</table>\n",
       "<p>52585 rows × 7 columns</p>\n",
       "</div>"
      ],
      "text/plain": [
       "       consecutive_number negara_bagian wilayah  jam_kecelakaan         cuaca  \\\n",
       "0                  560099       Wyoming   Rural               3          Snow   \n",
       "1                  160226         Idaho   Rural              16  Blowing Snow   \n",
       "2                   50006      Arkansas   Urban               3         Clear   \n",
       "3                  482027         Texas   Urban              15         Clear   \n",
       "4                  121570       Florida   Urban              19         Clear   \n",
       "...                   ...           ...     ...             ...           ...   \n",
       "52580              510436      Virginia   Urban              15  Not Reported   \n",
       "52581              350309    New Mexico   Urban              14         Clear   \n",
       "52582               40777       Arizona   Rural              14  Not Reported   \n",
       "52583              530422    Washington   Urban               3  Not Reported   \n",
       "52584               40096       Arizona   Rural              18  Not Reported   \n",
       "\n",
       "                                         jenis_kendaraan  angka_kematian  \n",
       "0                                        Standard Pickup               1  \n",
       "1                                  Utility Station Wagon               2  \n",
       "2                                        Standard Pickup               1  \n",
       "3      Large Utility (ANSI D-16 Utility Vehicle Categ...               1  \n",
       "4      Compact Utility (ANSI D-16 Utility Vehicle Cat...               1  \n",
       "...                                                  ...             ...  \n",
       "52580  Large Utility (ANSI D-16 Utility Vehicle Categ...               1  \n",
       "52581                                         Motorcycle               1  \n",
       "52582  ATV (All-Terrain Vehicle; Includes 3 or 4 Wheels)               1  \n",
       "52583                                  Unknown Body Type               1  \n",
       "52584                                    Standard Pickup               1  \n",
       "\n",
       "[52585 rows x 7 columns]"
      ]
     },
     "execution_count": 210,
     "metadata": {},
     "output_type": "execute_result"
    }
   ],
   "source": [
    "df.rename(columns={'atmospheric_conditions_name':'cuaca',\n",
    "                    'state_name' : 'negara_bagian',\n",
    "                    'land_use_name':'wilayah',\n",
    "                    'hour_of_crash':'jam_kecelakaan',\n",
    "                    'body_type_name':'jenis_kendaraan',\n",
    "                    'number_of_fatalities':'angka_kematian'\n",
    "}, inplace=True)\n",
    "df"
   ]
  },
  {
   "cell_type": "markdown",
   "metadata": {},
   "source": [
    "## Analisis dan perhitungan"
   ]
  },
  {
   "cell_type": "code",
   "execution_count": 211,
   "metadata": {},
   "outputs": [
    {
     "data": {
      "text/plain": [
       "<AxesSubplot:xlabel='negara_bagian'>"
      ]
     },
     "execution_count": 211,
     "metadata": {},
     "output_type": "execute_result"
    },
    {
     "data": {
      "image/png": "[encoded data removed]",
      "text/plain": [
       "<Figure size 432x288 with 1 Axes>"
      ]
     },
     "metadata": {
      "needs_background": "light"
     },
     "output_type": "display_data"
    }
   ],
   "source": [
    "# Negara bagian mana dengan jumlah angka kecelakaan paling tinggi?\n",
    "crash_freq = df['negara_bagian'].value_counts().head(7)\n",
    "sns.barplot(x=crash_freq, y=crash_freq.index, orient='h')"
   ]
  },
  {
   "cell_type": "markdown",
   "metadata": {},
   "source": [
    "`Berdasarkan diagram batang diatas dapat disimpulkan bahwa negara bagian california merupakan negara bagian dengan tingkat kecelakaan paling tinggi, posisi kedua ditempati texas dengan hasil yang sangat mendekati california, urutan ketiga hingga ketujuh berturut-turut ditempati oleh florida, georgia, north carolina, pennsylvania, ohio`"
   ]
  },
  {
   "cell_type": "code",
   "execution_count": 212,
   "metadata": {},
   "outputs": [
    {
     "data": {
      "text/plain": [
       "<AxesSubplot:ylabel='wilayah'>"
      ]
     },
     "execution_count": 212,
     "metadata": {},
     "output_type": "execute_result"
    },
    {
     "data": {
      "image/png": "[encoded data removed]",
      "text/plain": [
       "<Figure size 720x720 with 1 Axes>"
      ]
     },
     "metadata": {},
     "output_type": "display_data"
    }
   ],
   "source": [
    "# Kecelakan lebih banyak terjadi di wilayah kota atau pedasaan?\n",
    "df['wilayah'].value_counts().plot(kind='pie', figsize=(10,10), autopct='%.2f')"
   ]
  },
  {
   "cell_type": "markdown",
   "metadata": {},
   "source": [
    "`berdasarkan pie chart 53.37% kecelakaan terjadi di daerah urban (perkotaan) dan sisanya terjadi di rural (pedesaan)`"
   ]
  },
  {
   "cell_type": "code",
   "execution_count": 213,
   "metadata": {},
   "outputs": [
    {
     "data": {
      "image/png": "[encoded data removed]",
      "text/plain": [
       "<Figure size 432x288 with 1 Axes>"
      ]
     },
     "metadata": {
      "needs_background": "light"
     },
     "output_type": "display_data"
    }
   ],
   "source": [
    "# Pada jam berapa kecelakaan sering terjadi?\n",
    "jam_kecelakaan = df['jam_kecelakaan'].value_counts().head(9)\n",
    "sns.lineplot(x=jam_kecelakaan.index ,y=jam_kecelakaan)\n",
    "plt.xticks(rotation=45)\n",
    "plt.show()"
   ]
  },
  {
   "cell_type": "markdown",
   "metadata": {},
   "source": [
    "`Diagram garis menunjukan tingkat kecelakaan meningkat dimulai dari pukul 14.00 hingga puncaknya terjadi pada pukul 17.00 kemudian terus mengalami penurunan`"
   ]
  },
  {
   "cell_type": "code",
   "execution_count": 214,
   "metadata": {},
   "outputs": [
    {
     "data": {
      "text/plain": [
       "<AxesSubplot:>"
      ]
     },
     "execution_count": 214,
     "metadata": {},
     "output_type": "execute_result"
    },
    {
     "data": {
      "image/png": "[encoded data removed]",
      "text/plain": [
       "<Figure size 432x288 with 1 Axes>"
      ]
     },
     "metadata": {
      "needs_background": "light"
     },
     "output_type": "display_data"
    }
   ],
   "source": [
    "# Kecelakaan paling sering dialami oleh tipe kendaraan apa?\n",
    "df['jenis_kendaraan'].value_counts().head(9).plot(kind='bar')"
   ]
  },
  {
   "cell_type": "markdown",
   "metadata": {},
   "source": [
    "`Berdasarkan diagram dapat diambil kesimpulan bahwa kendaraan 4-Door Sedan/Hardtop merupakan jenis kendaraan yang paling sering mengalami kecelakaan, kemudian posisi ke dua ditempati Standard Pickup, posisi ke tiga Compact Utility (ANSI D-16 Utility Vehicle Categories “Small” and “Midsize”) dan posisi ke empat Motorcycle`"
   ]
  },
  {
   "cell_type": "code",
   "execution_count": 215,
   "metadata": {},
   "outputs": [
    {
     "data": {
      "text/html": [
       "<div>\n",
       "<style scoped>\n",
       "    .dataframe tbody tr th:only-of-type {\n",
       "        vertical-align: middle;\n",
       "    }\n",
       "\n",
       "    .dataframe tbody tr th {\n",
       "        vertical-align: top;\n",
       "    }\n",
       "\n",
       "    .dataframe thead th {\n",
       "        text-align: right;\n",
       "    }\n",
       "</style>\n",
       "<table border=\"1\" class=\"dataframe\">\n",
       "  <thead>\n",
       "    <tr style=\"text-align: right;\">\n",
       "      <th></th>\n",
       "      <th>wilayah</th>\n",
       "      <th>cuaca</th>\n",
       "      <th>angka_kematian</th>\n",
       "    </tr>\n",
       "  </thead>\n",
       "  <tbody>\n",
       "    <tr>\n",
       "      <th>0</th>\n",
       "      <td>Rural</td>\n",
       "      <td>Snow</td>\n",
       "      <td>1</td>\n",
       "    </tr>\n",
       "    <tr>\n",
       "      <th>1</th>\n",
       "      <td>Rural</td>\n",
       "      <td>Blowing Snow</td>\n",
       "      <td>2</td>\n",
       "    </tr>\n",
       "    <tr>\n",
       "      <th>2</th>\n",
       "      <td>Urban</td>\n",
       "      <td>Clear</td>\n",
       "      <td>1</td>\n",
       "    </tr>\n",
       "    <tr>\n",
       "      <th>3</th>\n",
       "      <td>Urban</td>\n",
       "      <td>Clear</td>\n",
       "      <td>1</td>\n",
       "    </tr>\n",
       "    <tr>\n",
       "      <th>4</th>\n",
       "      <td>Urban</td>\n",
       "      <td>Clear</td>\n",
       "      <td>1</td>\n",
       "    </tr>\n",
       "    <tr>\n",
       "      <th>...</th>\n",
       "      <td>...</td>\n",
       "      <td>...</td>\n",
       "      <td>...</td>\n",
       "    </tr>\n",
       "    <tr>\n",
       "      <th>52580</th>\n",
       "      <td>Urban</td>\n",
       "      <td>Not Reported</td>\n",
       "      <td>1</td>\n",
       "    </tr>\n",
       "    <tr>\n",
       "      <th>52581</th>\n",
       "      <td>Urban</td>\n",
       "      <td>Clear</td>\n",
       "      <td>1</td>\n",
       "    </tr>\n",
       "    <tr>\n",
       "      <th>52582</th>\n",
       "      <td>Rural</td>\n",
       "      <td>Not Reported</td>\n",
       "      <td>1</td>\n",
       "    </tr>\n",
       "    <tr>\n",
       "      <th>52583</th>\n",
       "      <td>Urban</td>\n",
       "      <td>Not Reported</td>\n",
       "      <td>1</td>\n",
       "    </tr>\n",
       "    <tr>\n",
       "      <th>52584</th>\n",
       "      <td>Rural</td>\n",
       "      <td>Not Reported</td>\n",
       "      <td>1</td>\n",
       "    </tr>\n",
       "  </tbody>\n",
       "</table>\n",
       "<p>52585 rows × 3 columns</p>\n",
       "</div>"
      ],
      "text/plain": [
       "      wilayah         cuaca  angka_kematian\n",
       "0       Rural          Snow               1\n",
       "1       Rural  Blowing Snow               2\n",
       "2       Urban         Clear               1\n",
       "3       Urban         Clear               1\n",
       "4       Urban         Clear               1\n",
       "...       ...           ...             ...\n",
       "52580   Urban  Not Reported               1\n",
       "52581   Urban         Clear               1\n",
       "52582   Rural  Not Reported               1\n",
       "52583   Urban  Not Reported               1\n",
       "52584   Rural  Not Reported               1\n",
       "\n",
       "[52585 rows x 3 columns]"
      ]
     },
     "execution_count": 215,
     "metadata": {},
     "output_type": "execute_result"
    }
   ],
   "source": [
    "# Pada wilayah urban berapa rata-rata angka fatalitynya?\n",
    "df_copy = df.drop(['consecutive_number','negara_bagian','jam_kecelakaan','jenis_kendaraan'], axis=1)\n",
    "df_copy"
   ]
  },
  {
   "cell_type": "code",
   "execution_count": 216,
   "metadata": {},
   "outputs": [
    {
     "data": {
      "text/html": [
       "<div>\n",
       "<style scoped>\n",
       "    .dataframe tbody tr th:only-of-type {\n",
       "        vertical-align: middle;\n",
       "    }\n",
       "\n",
       "    .dataframe tbody tr th {\n",
       "        vertical-align: top;\n",
       "    }\n",
       "\n",
       "    .dataframe thead th {\n",
       "        text-align: right;\n",
       "    }\n",
       "</style>\n",
       "<table border=\"1\" class=\"dataframe\">\n",
       "  <thead>\n",
       "    <tr style=\"text-align: right;\">\n",
       "      <th></th>\n",
       "      <th>angka_kematian</th>\n",
       "    </tr>\n",
       "    <tr>\n",
       "      <th>cuaca</th>\n",
       "      <th></th>\n",
       "    </tr>\n",
       "  </thead>\n",
       "  <tbody>\n",
       "    <tr>\n",
       "      <th>Blowing Sand, Soil, Dirt</th>\n",
       "      <td>4</td>\n",
       "    </tr>\n",
       "    <tr>\n",
       "      <th>Clear</th>\n",
       "      <td>22500</td>\n",
       "    </tr>\n",
       "    <tr>\n",
       "      <th>Cloudy</th>\n",
       "      <td>4361</td>\n",
       "    </tr>\n",
       "    <tr>\n",
       "      <th>Fog, Smog, Smoke</th>\n",
       "      <td>161</td>\n",
       "    </tr>\n",
       "    <tr>\n",
       "      <th>Freezing Rain or Drizzle</th>\n",
       "      <td>12</td>\n",
       "    </tr>\n",
       "    <tr>\n",
       "      <th>Not Reported</th>\n",
       "      <td>1156</td>\n",
       "    </tr>\n",
       "    <tr>\n",
       "      <th>Other</th>\n",
       "      <td>52</td>\n",
       "    </tr>\n",
       "    <tr>\n",
       "      <th>Rain</th>\n",
       "      <td>1790</td>\n",
       "    </tr>\n",
       "    <tr>\n",
       "      <th>Severe Crosswinds</th>\n",
       "      <td>17</td>\n",
       "    </tr>\n",
       "    <tr>\n",
       "      <th>Sleet, Hail</th>\n",
       "      <td>34</td>\n",
       "    </tr>\n",
       "    <tr>\n",
       "      <th>Snow</th>\n",
       "      <td>208</td>\n",
       "    </tr>\n",
       "    <tr>\n",
       "      <th>Unknown</th>\n",
       "      <td>67</td>\n",
       "    </tr>\n",
       "  </tbody>\n",
       "</table>\n",
       "</div>"
      ],
      "text/plain": [
       "                          angka_kematian\n",
       "cuaca                                   \n",
       "Blowing Sand, Soil, Dirt               4\n",
       "Clear                              22500\n",
       "Cloudy                              4361\n",
       "Fog, Smog, Smoke                     161\n",
       "Freezing Rain or Drizzle              12\n",
       "Not Reported                        1156\n",
       "Other                                 52\n",
       "Rain                                1790\n",
       "Severe Crosswinds                     17\n",
       "Sleet, Hail                           34\n",
       "Snow                                 208\n",
       "Unknown                               67"
      ]
     },
     "execution_count": 216,
     "metadata": {},
     "output_type": "execute_result"
    }
   ],
   "source": [
    "urban = df_copy[df_copy['wilayah'] == 'Urban'].groupby('cuaca').sum() # groupby cuaca hanya sebagai dummy agar mendapatkan nilai angka kematian\n",
    "urban"
   ]
  },
  {
   "cell_type": "code",
   "execution_count": 217,
   "metadata": {},
   "outputs": [
    {
     "name": "stdout",
     "output_type": "stream",
     "text": [
      "Average angka_kematian: 2530.0\n",
      "Median angka_kematian: 114.0\n",
      "Modus angka_kematian: 0         4\n",
      "1        12\n",
      "2        17\n",
      "3        34\n",
      "4        52\n",
      "5        67\n",
      "6       161\n",
      "7       208\n",
      "8      1156\n",
      "9      1790\n",
      "10     4361\n",
      "11    22500\n",
      "Name: angka_kematian, dtype: int64\n"
     ]
    }
   ],
   "source": [
    "print('Average angka_kematian: {}'.format(np.round(urban.angka_kematian.mean())))\n",
    "print('Median angka_kematian: {}'.format(np.round(urban.angka_kematian.median())))\n",
    "print('Modus angka_kematian: {}'.format(np.round(urban.angka_kematian.mode())))"
   ]
  },
  {
   "cell_type": "markdown",
   "metadata": {},
   "source": [
    "`Berdasarkan hasil perhitungan rata-rata angka kematian diwilayah urban pada tahun 2016 sebesar 2530`"
   ]
  },
  {
   "cell_type": "markdown",
   "metadata": {},
   "source": [
    "Apakah ada perbedaan rata-rata angka fatality pada cuaca yang berbeda?\n",
    "\n",
    "H0: μ_Urban == μ_Rural\n",
    "\n",
    "H1: μ_Urban != μ_Rural"
   ]
  },
  {
   "cell_type": "code",
   "execution_count": 219,
   "metadata": {},
   "outputs": [
    {
     "name": "stdout",
     "output_type": "stream",
     "text": [
      "P-value: [0.87695144]\n"
     ]
    }
   ],
   "source": [
    "# uji two sample independent\n",
    "Rural = df_copy[df_copy['wilayah'] == 'Rural'].groupby('cuaca').sum() # groupby cuaca hanya sebagai dummy agar mendapatkan nilai angka kematian\n",
    "urban = df_copy[df_copy['wilayah'] == 'Urban'].groupby('cuaca').sum() # groupby cuaca hanya sebagai dummy agar mendapatkan nilai angka kematian\n",
    "\n",
    "t_stat, p_val = stats.ttest_ind(urban,Rural)\n",
    "print('P-value:',p_val) "
   ]
  },
  {
   "cell_type": "markdown",
   "metadata": {},
   "source": [
    "`Hasil perhitungan menunjukan tidak ada perbedaan rata-rata fatality antara wilayah urban dengan wilayah rural`"
   ]
  },
  {
   "cell_type": "markdown",
   "metadata": {},
   "source": [
    "## Pengambilan Kesimpulan"
   ]
  },
  {
   "cell_type": "markdown",
   "metadata": {},
   "source": [
    "Kendaraan meruapakan sebuah alat yang memudahkan manusia untuk berpindah dari satu tempat ke tempat lainnya dan menghemat banyak waktu. Namun pada implementasinya penggunaan kendaraan juga memiliki resiko terhadap kita sebagai pengendara, yaitu kecelakaan.\n",
    "\n",
    "Dari keseluruhan negara bagian Amerika serikat, California menduduki posisi pertama dengan tingkat kecelakaan tertinggi dengan lebih dari 5000 kasus yang terjadi, posisi kedua ditempati texas dengan hasil yang sangat mendekati california, urutan ketiga hingga ketujuh berturut-turut ditempati oleh florida, georgia, north carolina, pennsylvania, ohio.\n",
    "\n",
    "Dari wilayah bagian ini kami melakukan penelitian dan mendapatkan hasil bahwa kecelakaan yang terjadi lebih banyak di wilayah urban (perkotaan) dibanding dengan wilayah rural (pedesaan) dengan persentase sebesar 53.37%. Dimana angka tertinggi kecelakaan terjadi pada pukul 17.00, waktu tersebut merupakan puncak mobilitas orang setelah bekerja. Kecelakaan yang terjadi di dominasi  oleh kendaraan 4-Door Sedan/Hardtop dengan lebih dari 14000 kejadian, posisi ke dua ditempati Standard Pickup, posisi ke tiga Compact Utility (ANSI D-16 Utility Vehicle Categories “Small” and “Midsize”) dan posisi ke empat Motorcycle.\n",
    "\n",
    "Berdasarkan hasil perhitungan menunjukan bahwa tidak terdapat perbedaan rata-rata kecelakaan diwilayah urban maupun rural yang signifikan, hal tersebut dapat menjadi pertimbangan pemerintah untuk memberlakukan kebijakan pembatasan kecepatan kendaraan di jam sibuk dan juga memberikan rambu peringatan agar masyarakat lebih berhati-hati dimana kebijakan tersebut bersekala nasional."
   ]
  },
  {
   "cell_type": "markdown",
   "metadata": {},
   "source": []
  }
 ],
 "metadata": {
  "interpreter": {
   "hash": "1d1e027dac9abb742fea5654c86078e82497180ec8a43fc802f73488ad859795"
  },
  "kernelspec": {
   "display_name": "Python 3.9.12 ('base')",
   "language": "python",
   "name": "python3"
  },
  "language_info": {
   "codemirror_mode": {
    "name": "ipython",
    "version": 3
   },
   "file_extension": ".py",
   "mimetype": "text/x-python",
   "name": "python",
   "nbconvert_exporter": "python",
   "pygments_lexer": "ipython3",
   "version": "3.9.12"
  },
  "orig_nbformat": 4
 },
 "nbformat": 4,
 "nbformat_minor": 2
}
